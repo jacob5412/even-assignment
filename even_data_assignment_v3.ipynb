{
 "cells": [
  {
   "cell_type": "markdown",
   "id": "7d669c31",
   "metadata": {},
   "source": [
    "# Even: Data Assignment"
   ]
  },
  {
   "cell_type": "markdown",
   "id": "ba329590",
   "metadata": {},
   "source": [
    "## Config\n",
    "\n",
    "Setting up the environment for the analysis.\n",
    "\n",
    "\n",
    "**Note**: This notebook uses `Python3.9` via `miniconda`. The environment can be created with `conda create -n even python=3.9`"
   ]
  },
  {
   "cell_type": "code",
   "execution_count": null,
   "id": "d79636c0",
   "metadata": {},
   "outputs": [],
   "source": [
    "%load_ext nb_black"
   ]
  },
  {
   "cell_type": "code",
   "execution_count": null,
   "id": "925487e1",
   "metadata": {},
   "outputs": [],
   "source": [
    "import pytz\n",
    "\n",
    "import datetime as dt\n",
    "import pandas as pd\n",
    "import numpy as np\n",
    "import seaborn as sns\n",
    "import matplotlib.pyplot as plt"
   ]
  },
  {
   "cell_type": "code",
   "execution_count": null,
   "id": "4b0df97c",
   "metadata": {},
   "outputs": [],
   "source": [
    "IST_TZ = pytz.timezone(\"Asia/Kolkata\")\n",
    "DATETIME_NOW_IST = dt.datetime(year=2023, month=3, day=12, tzinfo=IST_TZ)"
   ]
  },
  {
   "cell_type": "code",
   "execution_count": null,
   "id": "5fab7e09",
   "metadata": {},
   "outputs": [],
   "source": [
    "def percentile(n):\n",
    "    def percentile_(x):\n",
    "        return np.percentile(x, n)\n",
    "\n",
    "    percentile_.__name__ = \"percentile_%s\" % n\n",
    "    return percentile_"
   ]
  },
  {
   "cell_type": "markdown",
   "id": "04d69f33",
   "metadata": {},
   "source": [
    "## Data Preparation\n",
    "\n",
    "* In this section we're preparing the data for analyses. \n",
    "* We're also trying to validate the sanity of data and see how closely it resembles real-life facts."
   ]
  },
  {
   "cell_type": "code",
   "execution_count": null,
   "id": "f451dcf4",
   "metadata": {},
   "outputs": [],
   "source": [
    "sign_up_info_df = pd.read_csv(\"data/data_science_task_dataset.csv\", index_col=[0])\n",
    "sign_up_info_df.reset_index(drop=True, inplace=True)\n",
    "sign_up_info_df.reset_index(names=[\"id\"], inplace=True)"
   ]
  },
  {
   "cell_type": "code",
   "execution_count": null,
   "id": "16804158",
   "metadata": {},
   "outputs": [],
   "source": [
    "sign_up_info_df.head()"
   ]
  },
  {
   "cell_type": "code",
   "execution_count": null,
   "id": "ca6d60fa",
   "metadata": {},
   "outputs": [],
   "source": [
    "# assuming times are in IST\n",
    "sign_up_info_df[\"signup_time\"] = pd.to_datetime(\n",
    "    sign_up_info_df[\"signup_time\"]\n",
    ").dt.tz_localize(IST_TZ)\n",
    "sign_up_info_df[\"payment_time\"] = pd.to_datetime(\n",
    "    sign_up_info_df[\"payment_time\"]\n",
    ").dt.tz_localize(IST_TZ)\n",
    "\n",
    "sign_up_info_df[\"plan_months\"] = sign_up_info_df[\"plan_months\"].astype(int)\n",
    "sign_up_info_df[\"payment_amount\"] = sign_up_info_df[\"payment_amount\"].astype(float)\n",
    "sign_up_info_df[\"is_early_bird\"] = sign_up_info_df[\"is_early_bird\"].astype(bool)"
   ]
  },
  {
   "cell_type": "markdown",
   "id": "98956d82",
   "metadata": {},
   "source": [
    "Where ever paytime is missing, payment amount should be `NA`, i.e, the payment is still pending. `0` would be that the customer paid `0`."
   ]
  },
  {
   "cell_type": "code",
   "execution_count": null,
   "id": "dfbe6236",
   "metadata": {},
   "outputs": [],
   "source": [
    "sign_up_info_df.loc[sign_up_info_df[\"payment_time\"].isna(), \"payment_amount\"] = np.nan"
   ]
  },
  {
   "cell_type": "code",
   "execution_count": null,
   "id": "ed5739af",
   "metadata": {},
   "outputs": [],
   "source": [
    "sign_up_info_df[\"signup_to_payment_time\"] = (\n",
    "    sign_up_info_df[\"payment_time\"] - sign_up_info_df[\"signup_time\"]\n",
    ")\n",
    "sign_up_info_df[\"num_members\"] = sign_up_info_df[\"ages\"].apply(\n",
    "    lambda x: len(x.split(\", \"))\n",
    ")"
   ]
  },
  {
   "cell_type": "code",
   "execution_count": null,
   "id": "d8f58f8f",
   "metadata": {},
   "outputs": [],
   "source": [
    "# splitting each family member to a unique column\n",
    "sign_up_info_exploded_df = sign_up_info_df.assign(\n",
    "    **{\n",
    "        \"plans\": sign_up_info_df[\"plans\"].str.split(\", \"),\n",
    "        \"genders\": sign_up_info_df[\"genders\"].str.split(\", \"),\n",
    "        \"ages\": sign_up_info_df[\"ages\"].str.split(\", \"),\n",
    "    }\n",
    ").explode(column=[\"ages\", \"genders\", \"plans\"])"
   ]
  },
  {
   "cell_type": "markdown",
   "id": "ee60c058",
   "metadata": {},
   "source": [
    "### Validating with an external source\n",
    "\n",
    "* We can verify whether the ages in this sample align with those in real life. \n",
    "* Age is one factor in insurance that has a range of permissible values.\n",
    "* Are there any outliers?\n",
    "* E.g. are people over 100 and below 0 looking for life insurance?"
   ]
  },
  {
   "cell_type": "code",
   "execution_count": null,
   "id": "b856be71",
   "metadata": {},
   "outputs": [],
   "source": [
    "sign_up_info_exploded_df[\"ages\"] = sign_up_info_exploded_df[\"ages\"].astype(int)"
   ]
  },
  {
   "cell_type": "code",
   "execution_count": null,
   "id": "d547fb16",
   "metadata": {},
   "outputs": [],
   "source": [
    "fig, ax = plt.subplots(figsize=(16, 6), dpi=120)\n",
    "sns.countplot(\n",
    "    x=\"ages\",\n",
    "    data=sign_up_info_exploded_df,\n",
    "    order=np.arange(\n",
    "        start=sign_up_info_exploded_df[\"ages\"].min(),\n",
    "        stop=sign_up_info_exploded_df[\"ages\"].max(),\n",
    "        step=1,\n",
    "    ),\n",
    "    ax=ax,\n",
    ")\n",
    "ax.set_title(\"Count Plot of ages\")\n",
    "ax.set_xlabel(\"Age (in years)\")\n",
    "ax.set_ylabel(\"Count of people\")\n",
    "plt.show()"
   ]
  },
  {
   "cell_type": "code",
   "execution_count": null,
   "id": "8616856f",
   "metadata": {},
   "outputs": [],
   "source": [
    "sign_up_info_exploded_df[\"age_bins\"] = pd.cut(\n",
    "    sign_up_info_exploded_df[\"ages\"],\n",
    "    bins=[0, 17, 35, 50, 65],\n",
    "    include_lowest=True,\n",
    "    precision=0,\n",
    ")\n",
    "sign_up_info_exploded_df[\"age_bins\"].value_counts(normalize=True, dropna=False) * 100"
   ]
  },
  {
   "cell_type": "markdown",
   "id": "1453004f",
   "metadata": {},
   "source": [
    "From the above we can learn that:\n",
    "\n",
    "1. The age limit for insurance of 65 years is line with the [IRDAI](https://www.tataaig.com/knowledge-center/health-insurance/age-limit-for-health-insurance).\n",
    "2. A significant part of the population purchasing premiums at Even is between 17-35.\n",
    "\n",
    "Hence an early perspective doesn't show any concering signs."
   ]
  },
  {
   "cell_type": "markdown",
   "id": "1307e34c",
   "metadata": {},
   "source": [
    "## Attributing month-wise conversion\n",
    "\n",
    "* Sign-up data spans the first seven months of the year 2022.\n",
    "* Are we seeing a drop in conversion over any month?\n",
    "* What are we doing differently in those months we see a drop?\n",
    "* Finally, can we use insights from the well-performing months and see how they could be extended towards improving sub-par months?"
   ]
  },
  {
   "cell_type": "code",
   "execution_count": null,
   "id": "fbe10da3",
   "metadata": {},
   "outputs": [],
   "source": [
    "sign_up_info_df[\"signup_day\"] = sign_up_info_df[\"signup_time\"].dt.dayofyear\n",
    "\n",
    "day_wise_conv_df = (\n",
    "    (\n",
    "        sign_up_info_df[sign_up_info_df[\"payment_time\"].notnull()]\n",
    "        .groupby([\"signup_day\"])[\"id\"]\n",
    "        .count()\n",
    "        / sign_up_info_df.groupby([\"signup_day\"])[\"id\"].count()\n",
    "    )\n",
    "    .reset_index()\n",
    "    .rename(columns={\"id\": \"signup_to_payment_conversion\"})\n",
    ")\n"
   ]
  },
  {
   "cell_type": "code",
   "execution_count": null,
   "id": "a04b0158",
   "metadata": {},
   "outputs": [],
   "source": [
    "fig, ax = plt.subplots(figsize=(16, 6), dpi=120)\n",
    "sns.lineplot(\n",
    "    data=day_wise_conv_df, x=\"signup_day\", y=\"signup_to_payment_conversion\", ax=ax\n",
    ")\n",
    "plt.grid()"
   ]
  },
  {
   "cell_type": "markdown",
   "id": "41eda65c",
   "metadata": {},
   "source": [
    "The above looks like organic growth after the introductory offer was removed."
   ]
  },
  {
   "cell_type": "code",
   "execution_count": null,
   "id": "421ed30b",
   "metadata": {},
   "outputs": [],
   "source": [
    "sign_up_info_df[\"signup_month\"] = sign_up_info_df[\"signup_time\"].dt.month\n",
    "sign_up_info_exploded_df[\"signup_month\"] = sign_up_info_exploded_df[\n",
    "    \"signup_time\"\n",
    "].dt.month\n",
    "\n",
    "month_wise_conv_df = (\n",
    "    (\n",
    "        sign_up_info_df[sign_up_info_df[\"payment_time\"].notnull()]\n",
    "        .groupby([\"signup_month\"])[\"id\"]\n",
    "        .count()\n",
    "        / sign_up_info_df.groupby([\"signup_month\"])[\"id\"].count()\n",
    "    )\n",
    "    .reset_index()\n",
    "    .rename(columns={\"id\": \"signup_to_payment_conversion\"})\n",
    ")"
   ]
  },
  {
   "cell_type": "code",
   "execution_count": null,
   "id": "6c3ea9f2",
   "metadata": {},
   "outputs": [],
   "source": [
    "fig, ax = plt.subplots(figsize=(16, 6), dpi=120)\n",
    "sns.barplot(\n",
    "    data=month_wise_conv_df, x=\"signup_month\", y=\"signup_to_payment_conversion\", ax=ax\n",
    ")\n",
    "plt.grid()"
   ]
  },
  {
   "cell_type": "markdown",
   "id": "0b337297",
   "metadata": {},
   "source": [
    "Our conversion caps out at 20% with months 1, 2, 6, and 7 performing the best. Is there a difference composition of the following among months:\n",
    "\n",
    "* User demographics: \n",
    "    - Age, Family Size, Gender\n",
    "    - Are customers of a particular demographic finding Even's value position more useful?\n",
    "* Plans: \n",
    "    - The selected plan and/or plan months\n",
    "    - Are we offering more lucrative plans over certain months?\n",
    "* Prices:\n",
    "    - Are the prices better over certain months?\n",
    "    - **Note**: Since we only have pricing data for those who made a purchase, our insights suffer partially due to survivorship bias. "
   ]
  },
  {
   "cell_type": "markdown",
   "id": "49b6cdec",
   "metadata": {},
   "source": [
    "### Distribution of Ages accross months\n",
    "\n",
    "How does the age data look accross different age bins? i.e. is there a disproportionate volume of a certain age group over certain months?"
   ]
  },
  {
   "cell_type": "code",
   "execution_count": null,
   "id": "9f0dc80a",
   "metadata": {},
   "outputs": [],
   "source": [
    "sign_up_info_exploded_df[\"age_bins\"] = pd.cut(\n",
    "    sign_up_info_exploded_df[\"ages\"],\n",
    "    bins=[0, 10, 20, 30, 40, 50, 65],\n",
    "    include_lowest=True,\n",
    "    precision=0,\n",
    ")\n",
    "\n",
    "age_bins_composition_by_sign_up_month_df = sign_up_info_exploded_df.pivot_table(\n",
    "    index=[\"signup_month\"],\n",
    "    columns=[\"age_bins\"],\n",
    "    values=\"id\",\n",
    "    aggfunc=\"count\",\n",
    "    margins=True,\n",
    ")\n",
    "age_bins_composition_by_sign_up_month_df.div(\n",
    "    age_bins_composition_by_sign_up_month_df.iloc[:, -1], axis=0\n",
    ")"
   ]
  },
  {
   "cell_type": "markdown",
   "id": "0904d217",
   "metadata": {},
   "source": [
    "* From the above, the distribution of age bins looks consistent accross months. \n",
    "* The differences are with 1 percentage point of each other. \n",
    "* The only deviation seems to be the composition of the younger ages in month 1."
   ]
  },
  {
   "cell_type": "code",
   "execution_count": null,
   "id": "66e5e95f",
   "metadata": {
    "scrolled": false
   },
   "outputs": [],
   "source": [
    "ages_by_signup_month = sns.FacetGrid(\n",
    "    data=sign_up_info_exploded_df,\n",
    "    col=\"signup_month\",\n",
    "    col_wrap=3,\n",
    "    height=4,\n",
    "    sharex=\"col\",\n",
    "    sharey=\"row\",\n",
    ")\n",
    "ages_by_signup_month.map(\n",
    "    sns.histplot,\n",
    "    \"ages\",\n",
    "    kde=True,\n",
    "    color=\"green\",\n",
    "    stat=\"density\",\n",
    ")\n",
    "ages_by_signup_month.fig.subplots_adjust(top=0.9)\n",
    "ages_by_signup_month.fig.suptitle(\n",
    "    \"Histogram of the distribution of payment amount by months\"\n",
    ")\n",
    "plt.show()"
   ]
  },
  {
   "cell_type": "markdown",
   "id": "eb91fc92",
   "metadata": {},
   "source": [
    "* We can see that through the table and the distribution plots above that the ages are distributed similarly. \n",
    "* Interesting point: \n",
    "    - The distribution of ages is slightly right-skewed with a thicker tail on the right. \n",
    "    - That means insurance is still popular among the older ages, and seldomly do people look for insurance for kids on Even.\n",
    "    - *Could insurance for kids (< 18 years of age) be a new market to explore?*"
   ]
  },
  {
   "cell_type": "markdown",
   "id": "5840c013",
   "metadata": {},
   "source": [
    "### Distribution by Gender"
   ]
  },
  {
   "cell_type": "code",
   "execution_count": null,
   "id": "e6f363e9",
   "metadata": {},
   "outputs": [],
   "source": [
    "gender_composition_by_sign_up_month_df = sign_up_info_exploded_df.pivot_table(\n",
    "    index=[\"signup_month\"],\n",
    "    columns=[\"genders\"],\n",
    "    values=\"id\",\n",
    "    aggfunc=\"count\",\n",
    "    margins=True,\n",
    ")\n",
    "\n",
    "gender_composition_by_sign_up_month_df.div(\n",
    "    gender_composition_by_sign_up_month_df.iloc[:, -1], axis=0\n",
    ").drop(gender_composition_by_sign_up_month_df.tail(1).index)"
   ]
  },
  {
   "cell_type": "markdown",
   "id": "7964eed1",
   "metadata": {},
   "source": [
    "All the months follow the same distribution among genders. There's a 50-50 split."
   ]
  },
  {
   "cell_type": "markdown",
   "id": "20dcda2b",
   "metadata": {},
   "source": [
    "### Distribution by Plans"
   ]
  },
  {
   "cell_type": "code",
   "execution_count": null,
   "id": "284f8da5",
   "metadata": {},
   "outputs": [],
   "source": [
    "plan_composition_by_sign_up_month_df = sign_up_info_exploded_df.pivot_table(\n",
    "    index=[\"signup_month\"],\n",
    "    columns=[\"plans\"],\n",
    "    values=\"id\",\n",
    "    aggfunc=\"count\",\n",
    "    margins=True,\n",
    ")\n",
    "\n",
    "plan_composition_by_sign_up_month_df.div(\n",
    "    plan_composition_by_sign_up_month_df.iloc[:, -1], axis=0\n",
    ").drop(plan_composition_by_sign_up_month_df.tail(1).index)"
   ]
  },
  {
   "cell_type": "code",
   "execution_count": null,
   "id": "f40c47b1",
   "metadata": {},
   "outputs": [],
   "source": [
    "plan_months_composition_by_sign_up_month_df = sign_up_info_exploded_df.pivot_table(\n",
    "    index=[\"signup_month\"],\n",
    "    columns=[\"plan_months\"],\n",
    "    values=\"id\",\n",
    "    aggfunc=\"count\",\n",
    "    margins=True,\n",
    ")\n",
    "\n",
    "plan_months_composition_by_sign_up_month_df.div(\n",
    "    plan_months_composition_by_sign_up_month_df.iloc[:, -1], axis=0\n",
    ").drop(plan_months_composition_by_sign_up_month_df.tail(1).index)"
   ]
  },
  {
   "cell_type": "markdown",
   "id": "9e60cfc2",
   "metadata": {},
   "source": [
    "* There's a similar trend across plans with a slight deviation for the first two months. \n",
    "    - `PLUS` being overwhelmingly popular among customers. Possibly due to tax savings under 80D.\n",
    "* Furthermore, we see a similar trend across plan months as well.\n",
    "    - Customers usually prefer taking a 12-month plan. These might be those investing for the long run.\n",
    "    - Those selecting the 3-month plan are either those trying out or looking to file a claim."
   ]
  },
  {
   "cell_type": "markdown",
   "id": "58c4c738",
   "metadata": {},
   "source": [
    "### Pricing\n",
    "\n",
    "Could January (1) and Feburary (2) have high conversion due to the **Early Bird** offer?"
   ]
  },
  {
   "cell_type": "code",
   "execution_count": null,
   "id": "dbe679b1",
   "metadata": {},
   "outputs": [],
   "source": [
    "early_bird_sign_up_info_df = sign_up_info_df[sign_up_info_df[\"is_early_bird\"] == True]\n",
    "early_bird_sign_up_info_df[\"payment_time\"].isna().sum()"
   ]
  },
  {
   "cell_type": "code",
   "execution_count": null,
   "id": "a537ff06",
   "metadata": {},
   "outputs": [],
   "source": [
    "early_bird_sign_up_info_df[\"signup_time\"].min(), early_bird_sign_up_info_df[\n",
    "    \"signup_time\"\n",
    "].max()"
   ]
  },
  {
   "cell_type": "code",
   "execution_count": null,
   "id": "f9e48cfd",
   "metadata": {},
   "outputs": [],
   "source": [
    "sign_up_info_df.loc[\n",
    "    (\n",
    "        sign_up_info_df[\"signup_time\"]\n",
    "        >= dt.datetime(year=2022, month=1, day=1, tzinfo=IST_TZ)\n",
    "    )\n",
    "    & (\n",
    "        sign_up_info_df[\"signup_time\"]\n",
    "        < dt.datetime(year=2022, month=3, day=1, tzinfo=IST_TZ)\n",
    "    )\n",
    "][\"payment_amount\"].isna().sum()"
   ]
  },
  {
   "cell_type": "markdown",
   "id": "d346e905",
   "metadata": {},
   "source": [
    "An early bird is anyone who signed up in the month of January or Feburary and has paid for their plan. Anyone who signed up in January and Feburary isn't automatically considered an early bird.\n",
    "\n",
    "Is conversion higher in the first two months to due to a reduced *Early Bird* price?"
   ]
  },
  {
   "cell_type": "code",
   "execution_count": null,
   "id": "04a87a0e",
   "metadata": {},
   "outputs": [],
   "source": [
    "sign_up_info_df[sign_up_info_df[\"payment_time\"].notnull()].groupby([\"signup_month\"])[\n",
    "    \"payment_amount\"\n",
    "].agg([\"mean\", percentile(25), \"median\", percentile(75), percentile(90), \"count\"])"
   ]
  },
  {
   "cell_type": "markdown",
   "id": "02d244cb",
   "metadata": {},
   "source": [
    "* From the above, it's clear that months 1 and 2 paid lesser prices on average compared to other months. The conversion can be easily attribute to:\n",
    "    - Even being a new product and customers are willing to try it\n",
    "    - Due to lower prices\n",
    "    - Due to the fact that claims were easier to file initally\n",
    "* Interestingly, even after prices increased in months 6 and 7, the conversion recovered to its initial numbers.\n",
    "    - *Why is this the case?*\n",
    "    - Typically when a product goes through its life cycle ([Source](https://corporatefinanceinstitute.com/resources/management/product-life-cycle/)), there's plateau and then a drop in conversion.\n",
    "    - There either seems to be a pivot in the product, or customers are looking for something else."
   ]
  },
  {
   "cell_type": "code",
   "execution_count": null,
   "id": "edaed19b",
   "metadata": {},
   "outputs": [],
   "source": [
    "paid_sign_up_exploded_info_df = sign_up_info_exploded_df.loc[\n",
    "    sign_up_info_exploded_df[\"payment_time\"].notnull()\n",
    "]"
   ]
  },
  {
   "cell_type": "markdown",
   "id": "ff70a1d7",
   "metadata": {},
   "source": [
    "Could this be because prices for a certain plan month or plan was lower?"
   ]
  },
  {
   "cell_type": "code",
   "execution_count": null,
   "id": "ac181521",
   "metadata": {},
   "outputs": [],
   "source": [
    "plan_month_pricing_info_df = (\n",
    "    paid_sign_up_exploded_info_df.groupby([\"signup_month\", \"plan_months\"])[\n",
    "        \"payment_amount\"\n",
    "    ]\n",
    "    .agg([\"mean\"])\n",
    "    .reset_index()\n",
    ")\n",
    "\n",
    "fig, ax = plt.subplots(figsize=(16, 6), dpi=120)\n",
    "sns.lineplot(\n",
    "    data=plan_month_pricing_info_df,\n",
    "    x=\"signup_month\",\n",
    "    y=\"mean\",\n",
    "    hue=\"plan_months\",\n",
    "    ax=ax,\n",
    ")\n",
    "ax.set_title(\"Mean prices paid by plan months\")\n",
    "ax.set_xlabel(\"Sign up month\")\n",
    "ax.set_ylabel(\"Mean price paid for plan\")\n",
    "plt.grid()\n",
    "plt.show()"
   ]
  },
  {
   "cell_type": "markdown",
   "id": "2115c017",
   "metadata": {},
   "source": [
    "It is clear that the prices for all the plan months increased from the third month onwards. However, there doesn't seem to be a decline in prices in any plans in the last two months."
   ]
  },
  {
   "cell_type": "code",
   "execution_count": null,
   "id": "39d5b445",
   "metadata": {},
   "outputs": [],
   "source": [
    "plan_pricing_info_df = (\n",
    "    paid_sign_up_exploded_info_df.groupby([\"signup_month\", \"plans\"])[\"payment_amount\"]\n",
    "    .agg([\"mean\"])\n",
    "    .reset_index()\n",
    ")\n",
    "\n",
    "fig, ax = plt.subplots(figsize=(16, 6), dpi=120)\n",
    "sns.lineplot(\n",
    "    data=plan_pricing_info_df,\n",
    "    x=\"signup_month\",\n",
    "    y=\"mean\",\n",
    "    hue=\"plans\",\n",
    "    ax=ax,\n",
    ")\n",
    "ax.set_title(\"Mean prices paid by plans\")\n",
    "ax.set_xlabel(\"Sign up month\")\n",
    "ax.set_ylabel(\"Mean price paid for plan\")\n",
    "plt.grid()\n",
    "plt.show()"
   ]
  },
  {
   "cell_type": "code",
   "execution_count": null,
   "id": "94007d22",
   "metadata": {},
   "outputs": [],
   "source": [
    "plan_and_months_pricing_info_df = (\n",
    "    paid_sign_up_exploded_info_df.groupby([\"signup_month\", \"plans\", \"plan_months\"])[\n",
    "        \"payment_amount\"\n",
    "    ]\n",
    "    .agg([\"mean\"])\n",
    "    .reset_index()\n",
    ")\n",
    "\n",
    "fig, ax = plt.subplots(figsize=(16, 6), dpi=120)\n",
    "sns.lineplot(\n",
    "    data=plan_and_months_pricing_info_df,\n",
    "    x=\"signup_month\",\n",
    "    y=\"mean\",\n",
    "    style=\"plans\",\n",
    "    hue=\"plan_months\",\n",
    "    ax=ax,\n",
    "    palette=sns.color_palette(\"hls\", 3),\n",
    ")\n",
    "ax.set_title(\"Mean prices paid by plans\")\n",
    "ax.set_xlabel(\"Sign up month\")\n",
    "ax.set_ylabel(\"Mean price paid for plan\")\n",
    "plt.grid()\n",
    "plt.show()"
   ]
  },
  {
   "cell_type": "markdown",
   "id": "8fcdca6f",
   "metadata": {},
   "source": [
    "* Although the pricing increased for the `PLUS` campaign, \n",
    "    - the pricing for the `LITE` campaign seems to have dropped.\n",
    "    - specifically, the pricing for the `LITE, 6-month` plan.\n",
    "* However, the proportion of people signing for `LITE` doesn't seem to have increased.\n",
    "\n",
    "\n",
    "### Alternative Reasons\n",
    "\n",
    "* Although the higher conversion due to starting months can be attributed to pricing, the later months don't seem to follow the same trend. \n",
    "* Customers are still converting and paying for higher prices in the later months. \n",
    "* Hence it's inconclusive why conversion improved later on.\n",
    "\n",
    "This could be due to:\n",
    "\n",
    "1. Web page improvements:\n",
    "    - Clear and compelling messaging\n",
    "    - Easier sign-up process\n",
    "2. Marketing Channels:\n",
    "    - Increased promotion on social media\n",
    "    - Trust indicators through celebrities, customer reviews, or social proof.\n",
    "    - Better tutorials on how Even works\n",
    "3. Competitor analysis:\n",
    "    - Competitors might've increased prices, but Even held the same prices accross the later months\n",
    "4. Additional Benefits:\n",
    "    -  Even could've rolled out plans with more benefits.\n",
    "5. (Unlikely) Measurement error:\n",
    "    - We've lost customer data over certain months."
   ]
  },
  {
   "cell_type": "markdown",
   "id": "c81a291a",
   "metadata": {},
   "source": [
    "## Can we start a abandoned campaign?\n",
    "\n",
    "Can we target customers who're dropping off through other means? When would be the best time to intervene?"
   ]
  },
  {
   "cell_type": "code",
   "execution_count": null,
   "id": "4be36161",
   "metadata": {},
   "outputs": [],
   "source": [
    "sign_up_info_df.loc[:, \"did_payment\"] = True\n",
    "sign_up_info_df.loc[sign_up_info_df[\"payment_time\"].isna(), \"did_payment\"] = False"
   ]
  },
  {
   "cell_type": "code",
   "execution_count": null,
   "id": "ce6fd496",
   "metadata": {},
   "outputs": [],
   "source": [
    "(\n",
    "    sign_up_info_df.groupby([\"did_payment\"])[\"id\"].count() / sign_up_info_df.shape[0]\n",
    ").reset_index().rename(columns={\"id\": \"percentage\"})"
   ]
  },
  {
   "cell_type": "code",
   "execution_count": null,
   "id": "316efedb",
   "metadata": {},
   "outputs": [],
   "source": [
    "(\n",
    "    sign_up_info_df.groupby([\"did_payment\", \"signup_month\"])[\"id\"].count()\n",
    "    / sign_up_info_df.groupby([\"signup_month\"])[\"id\"].count()\n",
    ").reset_index().rename(columns={\"id\": \"percentage\"}).pivot_table(\n",
    "    index=\"signup_month\", columns=\"did_payment\", values=\"percentage\"\n",
    ")"
   ]
  },
  {
   "cell_type": "markdown",
   "id": "142df252",
   "metadata": {},
   "source": [
    "Over 80% of customers don't sign up for Even. Furthermore, as described previously, these drop offs are higher for months 3, 4, 5 and 6."
   ]
  },
  {
   "cell_type": "code",
   "execution_count": null,
   "id": "24249739",
   "metadata": {},
   "outputs": [],
   "source": [
    "sign_up_info_df.loc[\n",
    "    sign_up_info_df[\"signup_to_payment_time\"].notnull(), \"signup_to_payment_time\"\n",
    "].describe(percentiles=[0.25, 0.5, 0.75, 0.95, 0.99])"
   ]
  },
  {
   "cell_type": "markdown",
   "id": "fa4f2986",
   "metadata": {},
   "source": [
    "75% of the customers typically take a week to pay after signing. We can run experiments for customers that sign up and then drop off after a week."
   ]
  },
  {
   "cell_type": "markdown",
   "id": "7686fee4",
   "metadata": {},
   "source": [
    "## User Sign Up to Payment Time"
   ]
  },
  {
   "cell_type": "code",
   "execution_count": null,
   "id": "5e152ae4",
   "metadata": {},
   "outputs": [],
   "source": [
    "sign_up_info_df[\"signup_to_payment_time_days\"] = sign_up_info_df[\n",
    "    \"signup_to_payment_time\"\n",
    "] / pd.to_timedelta(1, unit=\"D\")\n",
    "payment_sign_up_info_df = sign_up_info_df.loc[\n",
    "    sign_up_info_df[\"signup_to_payment_time\"].notnull()\n",
    "].reset_index(drop=True)"
   ]
  },
  {
   "cell_type": "markdown",
   "id": "33c751cc",
   "metadata": {},
   "source": [
    "### Tabular Format\n",
    "\n",
    "Given that the range of the distribution is really wide and over 50% of the data resides within 1 day. A table would be suitable."
   ]
  },
  {
   "cell_type": "code",
   "execution_count": null,
   "id": "18c082f9",
   "metadata": {},
   "outputs": [],
   "source": [
    "payment_to_sign_up_time_df = payment_sign_up_info_df.groupby([\"signup_month\"])[\n",
    "    \"signup_to_payment_time\"\n",
    "].agg(\n",
    "    [\n",
    "        \"mean\",\n",
    "        percentile(25),\n",
    "        \"median\",\n",
    "        percentile(75),\n",
    "        percentile(95),\n",
    "        percentile(99),\n",
    "    ]\n",
    ")\n",
    "\n",
    "payment_to_sign_up_time_df.style.background_gradient().set_properties(\n",
    "    **{\"font-size\": \"11px\"}\n",
    ")"
   ]
  },
  {
   "cell_type": "code",
   "execution_count": null,
   "id": "eb11a753",
   "metadata": {},
   "outputs": [],
   "source": [
    "payment_sign_up_info_df[\"signup_to_payment_time_sec\"] = payment_sign_up_info_df[\n",
    "    \"signup_to_payment_time\"\n",
    "] / np.timedelta64(1, \"s\")\n",
    "payment_sign_up_info_df[\"log_signup_to_payment_time_sec\"] = np.log(\n",
    "    payment_sign_up_info_df[\"signup_to_payment_time_sec\"]\n",
    ")\n",
    "\n",
    "fig, ax = plt.subplots(figsize=(16, 6), dpi=120)\n",
    "sns.histplot(\n",
    "    data=payment_sign_up_info_df,\n",
    "    x=\"log_signup_to_payment_time_sec\",\n",
    "    ax=ax,\n",
    ")\n",
    "ax.set_xticks([4, 6, 8, 10, 12, 14, 16])\n",
    "ax.set_xticklabels(\n",
    "    [\n",
    "        \"1 min\",\n",
    "        \"3 mins 30 secs\",\n",
    "        \"15 mins 50 secs\",\n",
    "        \"2 hrs 20 mins\",\n",
    "        \"1 day\",\n",
    "        \"7 days\",\n",
    "        \"40 days\",\n",
    "    ]\n",
    ")\n",
    "plt.legend()\n",
    "plt.xlabel(\"Log of Signup to payment time\")\n",
    "plt.grid()\n",
    "plt.show()"
   ]
  },
  {
   "cell_type": "markdown",
   "id": "f958d783",
   "metadata": {},
   "source": [
    "## Mining the Underlying Price"
   ]
  },
  {
   "cell_type": "markdown",
   "id": "3e6d51c0",
   "metadata": {},
   "source": [
    "### Background\n",
    "\n",
    "As discussed earlier, the above data suffers from survivorship bias and hence represents the price a customer is willing to pay for a plan instead of predicting the price they should be paying.\n",
    "\n",
    "### Objective of a pricing model\n",
    "\n",
    "* Charge a premium that is proportional to the rate at which an individual or family would claim.\n",
    "* The overall sum of premiums shouldn't be less that the estimated cost of covering all individuals (including existing ones).\n",
    "* A customer's premium shouldn't exceed their coverage. Otherwise, it's pointless for a customer to get insurance. If it does, then they should be ineligible for insurance.\n",
    "\n",
    "A model that's mining the underlying pricing might not be bound by the above constraints.\n",
    "\n",
    "### Factors\n",
    "\n",
    "Setting the above aside, the factors that should majorly contribute to determining prices are as follows:\n",
    "* Age\n",
    "* Gender\n",
    "* Plan type and duration\n",
    "* Size of plan (Number of members)\n",
    "\n",
    "Additional factors not considered by data include:\n",
    "* Newness to the platform - for new customer offers\n",
    "* Customer reactivation journey \n",
    "    - for those customers who had previous plans\n",
    "    - can we increase their coverage?\n",
    "* Location\n",
    "* Claims history: those with a history of filing claims may be seen as having a higher risk\n",
    "* Credit Score: A lower credit score may indicate a higher risk of filing claims.\n",
    "* Coverage cost: As treatments get more expensive over time.\n",
    "\n",
    "### Feature Engineering\n",
    "\n",
    "Given the factors currently mentioned in the dataset.\n",
    "\n",
    "### Age\n",
    "\n",
    "* This is simple for individuals, as higher age would lead to higher prices\n",
    "* However, this is a complicated affair for families.\n",
    "    - in a family of four, how would you consider the ages of all family members?\n",
    "    - one such way is to create a vector of ages, and the model can learn the weights\n",
    "    - a vector of ages would also incorporate the size of the family\n",
    "    \n",
    "### Gender\n",
    "\n",
    "* This factor should be coupled with age to determine pricing. As gender alone wouldn't be able to determine coverage.\n",
    "* For example:\n",
    "    - Women around menstrual ages might require additional coverage for pregnancy\n",
    "    - Men around certain ages might experience male-patterned baldness that requires additional coverage\n",
    "\n",
    "### Plan and Plan Duration\n",
    "\n",
    "* Since both plan and plan months are categorical, we can one-hot encode this variable.\n",
    "* The algorithm should be able to account for volume pricing:\n",
    "    - every additional 3 or 6 months shouldn't necessarily increase the price by 100%, but around 80%.\n",
    "    - a slightly higher price for a better service creates a price anchor - which is why customers tend to chose `PLUS` more often than `LITE`.\n",
    "    \n",
    "### Model Selection\n",
    "\n",
    "Given the above features, we require a model that weights factors such as a vector of age while also incorporating non-linearly separable boundaries for gender and age. An ensemble method through boosting might work well. An overfitted model might work well as the possibility of receiving values outside the above three factors is rare. Furthermore, the current objective is to learn how pricing can be mined from pre-existing factors."
   ]
  }
 ],
 "metadata": {
  "kernelspec": {
   "display_name": "Python 3 (ipykernel)",
   "language": "python",
   "name": "python3"
  },
  "language_info": {
   "codemirror_mode": {
    "name": "ipython",
    "version": 3
   },
   "file_extension": ".py",
   "mimetype": "text/x-python",
   "name": "python",
   "nbconvert_exporter": "python",
   "pygments_lexer": "ipython3",
   "version": "3.9.16"
  }
 },
 "nbformat": 4,
 "nbformat_minor": 5
}
