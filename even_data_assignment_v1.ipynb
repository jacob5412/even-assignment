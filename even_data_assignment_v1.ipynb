{
 "cells": [
  {
   "cell_type": "markdown",
   "id": "7d669c31",
   "metadata": {},
   "source": [
    "# Even: Data Assignment"
   ]
  },
  {
   "cell_type": "markdown",
   "id": "ba329590",
   "metadata": {},
   "source": [
    "## Config\n",
    "\n",
    "Setting up the environment for the analysis.\n",
    "\n",
    "\n",
    "* This notebook uses `Python3.9` via `miniconda`. The environment can be created with `conda create -n even python=3.9`"
   ]
  },
  {
   "cell_type": "code",
   "execution_count": null,
   "id": "d79636c0",
   "metadata": {},
   "outputs": [],
   "source": [
    "# black formatter\n",
    "%load_ext nb_black"
   ]
  },
  {
   "cell_type": "code",
   "execution_count": null,
   "id": "925487e1",
   "metadata": {},
   "outputs": [],
   "source": [
    "import pytz\n",
    "\n",
    "import datetime as dt\n",
    "import pandas as pd\n",
    "import numpy as np\n",
    "import seaborn as sns\n",
    "import matplotlib.pyplot as plt"
   ]
  },
  {
   "cell_type": "code",
   "execution_count": null,
   "id": "4b0df97c",
   "metadata": {},
   "outputs": [],
   "source": [
    "IST_TZ = pytz.timezone(\"Asia/Kolkata\")\n",
    "DATETIME_NOW_IST = dt.datetime(year=2023, month=3, day=12, tzinfo=IST_TZ)"
   ]
  },
  {
   "cell_type": "code",
   "execution_count": null,
   "id": "5fab7e09",
   "metadata": {},
   "outputs": [],
   "source": [
    "def percentile(n):\n",
    "    def percentile_(x):\n",
    "        return np.percentile(x, n)\n",
    "\n",
    "    percentile_.__name__ = \"percentile_%s\" % n\n",
    "    return percentile_"
   ]
  },
  {
   "cell_type": "markdown",
   "id": "04d69f33",
   "metadata": {},
   "source": [
    "## Data Preparation & Exploration"
   ]
  },
  {
   "cell_type": "code",
   "execution_count": null,
   "id": "f451dcf4",
   "metadata": {},
   "outputs": [],
   "source": [
    "sign_up_info_df = pd.read_csv(\"data/data_science_task_dataset.csv\", index_col=[0])\n",
    "sign_up_info_df.reset_index(drop=True, inplace=True)\n",
    "sign_up_info_df.reset_index(names=[\"id\"], inplace=True)"
   ]
  },
  {
   "cell_type": "code",
   "execution_count": null,
   "id": "16804158",
   "metadata": {},
   "outputs": [],
   "source": [
    "sign_up_info_df.head()"
   ]
  },
  {
   "cell_type": "code",
   "execution_count": null,
   "id": "ca6d60fa",
   "metadata": {},
   "outputs": [],
   "source": [
    "# assuming times are in IST\n",
    "sign_up_info_df[\"signup_time\"] = pd.to_datetime(\n",
    "    sign_up_info_df[\"signup_time\"]\n",
    ").dt.tz_localize(IST_TZ)\n",
    "sign_up_info_df[\"payment_time\"] = pd.to_datetime(\n",
    "    sign_up_info_df[\"payment_time\"]\n",
    ").dt.tz_localize(IST_TZ)\n",
    "\n",
    "sign_up_info_df[\"plan_months\"] = sign_up_info_df[\"plan_months\"].astype(int)\n",
    "sign_up_info_df[\"payment_amount\"] = sign_up_info_df[\"payment_amount\"].astype(float)\n",
    "sign_up_info_df[\"is_early_bird\"] = sign_up_info_df[\"is_early_bird\"].astype(bool)"
   ]
  },
  {
   "cell_type": "markdown",
   "id": "98956d82",
   "metadata": {},
   "source": [
    "Where ever paytime is missing, payment amount should be `NA`, i.e, it's still pending."
   ]
  },
  {
   "cell_type": "code",
   "execution_count": null,
   "id": "dfbe6236",
   "metadata": {},
   "outputs": [],
   "source": [
    "sign_up_info_df.loc[sign_up_info_df[\"payment_time\"].isna(), \"payment_amount\"] = np.nan"
   ]
  },
  {
   "cell_type": "code",
   "execution_count": null,
   "id": "ed5739af",
   "metadata": {},
   "outputs": [],
   "source": [
    "sign_up_info_df[\"signup_to_payment_time\"] = (\n",
    "    sign_up_info_df[\"payment_time\"] - sign_up_info_df[\"signup_time\"]\n",
    ")"
   ]
  },
  {
   "cell_type": "markdown",
   "id": "626b853f",
   "metadata": {},
   "source": [
    "* Each row represents a sign up with multiple family members:\n",
    "    - represented by multiple values for `genders`, `ages`, `plans`.\n",
    "    - other rows are common among family members.\n",
    "* When `payment_time` is null, the customer hasn't paid for the plan yet."
   ]
  },
  {
   "cell_type": "code",
   "execution_count": null,
   "id": "d8f58f8f",
   "metadata": {},
   "outputs": [],
   "source": [
    "# splitting each family member to a unique column\n",
    "sign_up_info_exploded_df = sign_up_info_df.assign(\n",
    "    **{\n",
    "        \"plans\": sign_up_info_df[\"plans\"].str.split(\", \"),\n",
    "        \"genders\": sign_up_info_df[\"genders\"].str.split(\", \"),\n",
    "        \"ages\": sign_up_info_df[\"ages\"].str.split(\", \"),\n",
    "    }\n",
    ").explode(column=[\"ages\", \"genders\", \"plans\"])"
   ]
  },
  {
   "cell_type": "code",
   "execution_count": null,
   "id": "d473be95",
   "metadata": {},
   "outputs": [],
   "source": [
    "sign_up_info_exploded_df[\"ages\"] = sign_up_info_exploded_df[\"ages\"].astype(int)"
   ]
  },
  {
   "cell_type": "code",
   "execution_count": null,
   "id": "36da87ca",
   "metadata": {},
   "outputs": [],
   "source": [
    "sign_up_info_exploded_df.groupby([\"plans\", \"plan_months\"])[\"id\"].count()"
   ]
  },
  {
   "cell_type": "code",
   "execution_count": null,
   "id": "ceade8d7",
   "metadata": {},
   "outputs": [],
   "source": [
    "sign_up_info_exploded_df[\"genders\"].value_counts(dropna=False)"
   ]
  },
  {
   "cell_type": "code",
   "execution_count": null,
   "id": "d547fb16",
   "metadata": {},
   "outputs": [],
   "source": [
    "fig, ax = plt.subplots(figsize=(16, 6), dpi=120)\n",
    "sns.countplot(\n",
    "    x=\"ages\",\n",
    "    data=sign_up_info_exploded_df,\n",
    "    order=np.arange(\n",
    "        start=sign_up_info_exploded_df[\"ages\"].min(),\n",
    "        stop=sign_up_info_exploded_df[\"ages\"].max(),\n",
    "        step=1,\n",
    "    ),\n",
    "    ax=ax,\n",
    ")\n",
    "ax.set_title(\"Count Plot of ages\")\n",
    "ax.set_xlabel(\"Age (in years)\")\n",
    "ax.set_ylabel(\"Count of people\")\n",
    "plt.show()"
   ]
  },
  {
   "cell_type": "code",
   "execution_count": null,
   "id": "8616856f",
   "metadata": {},
   "outputs": [],
   "source": [
    "sign_up_info_exploded_df[\"age_bins\"] = pd.cut(\n",
    "    sign_up_info_exploded_df[\"ages\"],\n",
    "    bins=[0, 17, 35, 50, 65],\n",
    "    include_lowest=True,\n",
    "    precision=0,\n",
    ")\n",
    "sign_up_info_exploded_df[\"age_bins\"].value_counts(normalize=True, dropna=False) * 100"
   ]
  },
  {
   "cell_type": "markdown",
   "id": "1453004f",
   "metadata": {},
   "source": [
    "1. The age limit for insurance of 65 years is line with the [IRDAI](https://www.tataaig.com/knowledge-center/health-insurance/age-limit-for-health-insurance).\n",
    "2. A major part of the population purchasing premiums at even are between 17-35."
   ]
  },
  {
   "cell_type": "markdown",
   "id": "c5cfe15d",
   "metadata": {},
   "source": [
    "The minimum sign up time to the maximum payment/signup time signifies the range this data is for."
   ]
  },
  {
   "cell_type": "code",
   "execution_count": null,
   "id": "e558b8f2",
   "metadata": {},
   "outputs": [],
   "source": [
    "print(\n",
    "    f\"\"\"From: {sign_up_info_df[\"signup_time\"].min()}\"\"\"\n",
    "    + f\"\"\"\\nTo: {max(sign_up_info_df[\"payment_time\"].max(), sign_up_info_df['signup_time'].max())}\"\"\"\n",
    "    + f\"\"\"\\nRange: {max(sign_up_info_df[\"payment_time\"].max(), sign_up_info_df['signup_time'].max()) - sign_up_info_df[\"signup_time\"].min()}\"\"\"\n",
    ")"
   ]
  },
  {
   "cell_type": "markdown",
   "id": "91238d4d",
   "metadata": {},
   "source": [
    "i.e., roughly a year of data."
   ]
  },
  {
   "cell_type": "markdown",
   "id": "ebcbc292",
   "metadata": {},
   "source": [
    "## Crucial Points\n",
    "\n",
    "what do you think are 2 crucial data breakdowns or plots to be shown if you were presenting this data to the wider team? If you think multiple options are possible, feel free to say why you picked those 2.\n",
    "\n",
    "Possible Questions\n",
    "\n",
    "- [ ] Are certain plans more popular among certain ages? Families?\n",
    "- [ ] Are certain plan months popular among certain age? Families?\n",
    "- [ ] What's the age group that's signing up the most for even?\n",
    "- [ ] Which group signs up the fastest at even?\n",
    "- [ ] When is Even receiving the most sign ups?\n",
    "- [ ] Are early bird sign ups more?\n",
    "- [ ] What's the typical price people are looking for insurane at sign up? (compare it with market rates)\n",
    "- [ ] Can we check retention of a customer? -- Customer lifetime value\n",
    "\n",
    "## What's the preferred plan among ages?"
   ]
  },
  {
   "cell_type": "code",
   "execution_count": null,
   "id": "b2570d80",
   "metadata": {},
   "outputs": [],
   "source": [
    "plans_for_ages_df = (\n",
    "    sign_up_info_exploded_df.groupby([\"ages\", \"plans\"])[\"id\"]\n",
    "    .count()\n",
    "    .reset_index()\n",
    "    .rename(columns={\"id\": \"total_sign_ups_for_plan\"})\n",
    ")\n",
    "plans_for_ages_df[\"total_sign_ups_for_ages\"] = plans_for_ages_df.groupby([\"ages\"])[\n",
    "    \"total_sign_ups_for_plan\"\n",
    "].transform(\"sum\")\n",
    "plans_for_ages_df[\"plan_selected_by_age_perc\"] = (\n",
    "    plans_for_ages_df[\"total_sign_ups_for_plan\"]\n",
    "    * 100.0\n",
    "    / plans_for_ages_df[\"total_sign_ups_for_ages\"]\n",
    ")"
   ]
  },
  {
   "cell_type": "code",
   "execution_count": null,
   "id": "da1ec069",
   "metadata": {},
   "outputs": [],
   "source": [
    "plans_for_ages_df.head()"
   ]
  },
  {
   "cell_type": "code",
   "execution_count": null,
   "id": "eb3ebd60",
   "metadata": {},
   "outputs": [],
   "source": [
    "plans_selected_by_ages_perc_df = plans_for_ages_df.pivot_table(\n",
    "    index=[\"ages\"], columns=[\"plans\"], values=[\"plan_selected_by_age_perc\"]\n",
    ").reset_index()\n",
    "plans_selected_by_ages_perc_df[\"popular_plan\"] = plans_selected_by_ages_perc_df.apply(\n",
    "    lambda x: \"LITE\"\n",
    "    if x[(\"plan_selected_by_age_perc\", \"LITE\")]\n",
    "    > x[(\"plan_selected_by_age_perc\", \"PLUS\")]\n",
    "    else \"PLUS\"\n",
    "    if x[(\"plan_selected_by_age_perc\", \"LITE\")]\n",
    "    < x[(\"plan_selected_by_age_perc\", \"PLUS\")]\n",
    "    else \"Tie\",\n",
    "    axis=1,\n",
    ")"
   ]
  },
  {
   "cell_type": "code",
   "execution_count": null,
   "id": "224a6886",
   "metadata": {
    "scrolled": true
   },
   "outputs": [],
   "source": [
    "plans_selected_by_ages_perc_df.groupby([\"popular_plan\"])[\"ages\"].count()"
   ]
  },
  {
   "cell_type": "code",
   "execution_count": null,
   "id": "5df4e900",
   "metadata": {},
   "outputs": [],
   "source": [
    "plans_selected_by_ages_perc_df[(\"plan_selected_by_age_perc\", \"PLUS\")].mean()"
   ]
  },
  {
   "cell_type": "code",
   "execution_count": null,
   "id": "9d06b36e",
   "metadata": {},
   "outputs": [],
   "source": [
    "plans_selected_by_ages_perc_df[(\"plan_selected_by_age_perc\", \"PLUS\")].std()"
   ]
  },
  {
   "cell_type": "code",
   "execution_count": null,
   "id": "44dee18d",
   "metadata": {},
   "outputs": [],
   "source": [
    "sign_up_info_exploded_df.groupby([\"plans\"])[\n",
    "    \"id\"\n",
    "].count() * 100.0 / sign_up_info_exploded_df.shape[0]"
   ]
  },
  {
   "cell_type": "code",
   "execution_count": null,
   "id": "a6336aaa",
   "metadata": {},
   "outputs": [],
   "source": [
    "sign_up_info_exploded_df.loc[\n",
    "    sign_up_info_exploded_df[\"payment_time\"].notnull()\n",
    "].groupby([\"plans\"])[\"id\"].count() * 100.0 / sign_up_info_exploded_df.loc[\n",
    "    sign_up_info_exploded_df[\"payment_time\"].notnull()\n",
    "].shape[\n",
    "    0\n",
    "]"
   ]
  },
  {
   "cell_type": "markdown",
   "id": "ab3a6e6b",
   "metadata": {},
   "source": [
    "* the most popular plan among all ages in `PLUS`.\n",
    "* On average, $74.91\\%\\pm1.59\\%$ (95% confidence interval) of the sample sign up for the `PLUS` plan.\n",
    "* Of the total, $74.89\\%$ of the sample chose the `PLUS` plan.\n",
    "* Of those who paid, $74.69\\%$ chose the `PLUS` plan.\n",
    "\n",
    "What's interesting is that although the `PLUS` plan is more expensive than the `LITE` plan, customers might find the `PLUS` more value for money – possibly due to the additional benefits it entails. Furthermore, this could also be due to price anchoring ([Ref.](https://www.paddle.com/resources/price-anchoring-to-optimize-your-pricing-strategy)) where customers use `LITE` as a price reference to the `PLUS` plan and see that it yields better value.\n",
    "\n",
    "Since the data is a snapshot of those who purchased a plan, there's some scope for figuring out whether price anchoring works via:\n",
    "1. A/B testing\n",
    "2. Analyzing historical data to figure out those who dropped out when they selected a certain plan.\n",
    "3. Through qualitative analyses such as survey, market research, focus groups and so on."
   ]
  },
  {
   "cell_type": "markdown",
   "id": "1307e34c",
   "metadata": {},
   "source": [
    "## When do we receive our lowest sign ups?\n",
    "\n",
    "When do we recieve the most sign ups?"
   ]
  },
  {
   "cell_type": "code",
   "execution_count": null,
   "id": "421ed30b",
   "metadata": {},
   "outputs": [],
   "source": [
    "sign_up_info_df[\"signup_month\"] = sign_up_info_df[\"signup_time\"].dt.month\n",
    "sign_up_info_exploded_df[\"signup_month\"] = sign_up_info_exploded_df[\n",
    "    \"signup_time\"\n",
    "].dt.month"
   ]
  },
  {
   "cell_type": "code",
   "execution_count": null,
   "id": "0604bf84",
   "metadata": {},
   "outputs": [],
   "source": [
    "(\n",
    "    sign_up_info_df[sign_up_info_df[\"payment_time\"].notnull()]\n",
    "    .groupby([\"signup_month\"])[\"id\"]\n",
    "    .count()\n",
    "    / sign_up_info_df.groupby([\"signup_month\"])[\"id\"].count()\n",
    ").reset_index().rename(columns={\"id\": \"signup_to_payment_conversion\"})"
   ]
  },
  {
   "cell_type": "markdown",
   "id": "0b337297",
   "metadata": {},
   "source": [
    "The highest conversion was during month 1, 2, 6, and 7. Why was this the case?\n",
    "\n",
    "Could January and Feburary have high conversion due to the early bird offer?"
   ]
  },
  {
   "cell_type": "code",
   "execution_count": null,
   "id": "dbe679b1",
   "metadata": {},
   "outputs": [],
   "source": [
    "early_bird_sign_up_info_df = sign_up_info_df[sign_up_info_df[\"is_early_bird\"] == True]"
   ]
  },
  {
   "cell_type": "code",
   "execution_count": null,
   "id": "14bbf383",
   "metadata": {},
   "outputs": [],
   "source": [
    "early_bird_sign_up_info_df[\"payment_time\"].isna().sum()"
   ]
  },
  {
   "cell_type": "code",
   "execution_count": null,
   "id": "a537ff06",
   "metadata": {},
   "outputs": [],
   "source": [
    "early_bird_sign_up_info_df[\"signup_time\"].min(), early_bird_sign_up_info_df[\n",
    "    \"signup_time\"\n",
    "].max()"
   ]
  },
  {
   "cell_type": "code",
   "execution_count": null,
   "id": "f9e48cfd",
   "metadata": {},
   "outputs": [],
   "source": [
    "sign_up_info_df.loc[\n",
    "    (\n",
    "        sign_up_info_df[\"signup_time\"]\n",
    "        >= dt.datetime(year=2022, month=1, day=1, tzinfo=IST_TZ)\n",
    "    )\n",
    "    & (\n",
    "        sign_up_info_df[\"signup_time\"]\n",
    "        < dt.datetime(year=2022, month=3, day=1, tzinfo=IST_TZ)\n",
    "    )\n",
    "][\"payment_amount\"].isna().sum()"
   ]
  },
  {
   "cell_type": "markdown",
   "id": "d346e905",
   "metadata": {},
   "source": [
    "An early bird is anyone who signed up in the month of January or Feburary and has paid for their plan. Is conversion higher here to due to a reduced price?"
   ]
  },
  {
   "cell_type": "code",
   "execution_count": null,
   "id": "04a87a0e",
   "metadata": {},
   "outputs": [],
   "source": [
    "sign_up_info_df[sign_up_info_df[\"payment_time\"].notnull()].groupby([\"signup_month\"])[\n",
    "    \"payment_amount\"\n",
    "].agg([\"mean\", percentile(25), \"median\", percentile(75), percentile(90), \"count\"])"
   ]
  },
  {
   "cell_type": "markdown",
   "id": "02d244cb",
   "metadata": {},
   "source": [
    "* From the above, it's clear that months one and two paid lesser prices on average compared to other months.\n",
    "* But this could be because the user personas signing up each month are different. \n",
    "\n",
    "We can validate this by checking the composition of personas over each month are similar for:\n",
    "1. Ages\n",
    "2. Family Sizes\n",
    "3. Plans\n",
    "4. Gender\n",
    "\n",
    "#### Ages"
   ]
  },
  {
   "cell_type": "code",
   "execution_count": null,
   "id": "2566bb19",
   "metadata": {},
   "outputs": [],
   "source": [
    "sign_up_info_exploded_df[\"age_bins\"] = pd.cut(\n",
    "    sign_up_info_exploded_df[\"ages\"],\n",
    "    bins=[0, 10, 20, 30, 40, 50, 65],\n",
    "    include_lowest=True,\n",
    "    precision=0,\n",
    ")\n",
    "\n",
    "age_bins_composition_by_sign_up_month_df = sign_up_info_exploded_df.pivot_table(\n",
    "    index=[\"signup_month\"],\n",
    "    columns=[\"age_bins\"],\n",
    "    values=\"id\",\n",
    "    aggfunc=\"count\",\n",
    "    margins=True,\n",
    ")\n",
    "\n",
    "age_bins_composition_by_sign_up_month_df.div(\n",
    "    age_bins_composition_by_sign_up_month_df.iloc[:, -1], axis=0\n",
    ")"
   ]
  },
  {
   "cell_type": "code",
   "execution_count": null,
   "id": "ce9b8e00",
   "metadata": {},
   "outputs": [],
   "source": [
    "ages_by_signup_month = sns.FacetGrid(\n",
    "    data=sign_up_info_exploded_df,\n",
    "    col=\"signup_month\",\n",
    "    col_wrap=3,\n",
    "    height=4,\n",
    "    sharex=\"col\",\n",
    "    sharey=\"row\",\n",
    ")\n",
    "ages_by_signup_month.map(\n",
    "    sns.histplot,\n",
    "    \"ages\",\n",
    "    kde=True,\n",
    "    color=\"green\",\n",
    "    stat=\"density\",\n",
    ")\n",
    "ages_by_signup_month.fig.subplots_adjust(top=0.9)\n",
    "ages_by_signup_month.fig.suptitle(\n",
    "    \"Histogram of the distribution of payment amount by months\"\n",
    ")\n",
    "plt.show()"
   ]
  },
  {
   "cell_type": "markdown",
   "id": "d0b890c9",
   "metadata": {},
   "source": [
    "We can see that through the table and the distribution plots above that the ages are distributed similarly. Also fun to note is that the distribution of ages is a bit right skewed with a thicker tail on the right."
   ]
  },
  {
   "cell_type": "markdown",
   "id": "e942c3e6",
   "metadata": {},
   "source": [
    "#### Gender"
   ]
  },
  {
   "cell_type": "code",
   "execution_count": null,
   "id": "23b151cf",
   "metadata": {},
   "outputs": [],
   "source": [
    "gender_composition_by_sign_up_month_df = sign_up_info_exploded_df.pivot_table(\n",
    "    index=[\"signup_month\"],\n",
    "    columns=[\"genders\"],\n",
    "    values=\"id\",\n",
    "    aggfunc=\"count\",\n",
    "    margins=True,\n",
    ")\n",
    "\n",
    "gender_composition_by_sign_up_month_df.div(\n",
    "    gender_composition_by_sign_up_month_df.iloc[:, -1], axis=0\n",
    ")"
   ]
  },
  {
   "cell_type": "markdown",
   "id": "1c36442a",
   "metadata": {},
   "source": [
    "All the months follow the same distribution among genders. There's a 50-50 split."
   ]
  },
  {
   "cell_type": "markdown",
   "id": "4dd08216",
   "metadata": {},
   "source": [
    "#### Plans"
   ]
  },
  {
   "cell_type": "code",
   "execution_count": null,
   "id": "2efeb20b",
   "metadata": {},
   "outputs": [],
   "source": [
    "plan_composition_by_sign_up_month_df = sign_up_info_exploded_df.pivot_table(\n",
    "    index=[\"signup_month\"],\n",
    "    columns=[\"plans\"],\n",
    "    values=\"id\",\n",
    "    aggfunc=\"count\",\n",
    "    margins=True,\n",
    ")\n",
    "\n",
    "plan_composition_by_sign_up_month_df.div(\n",
    "    plan_composition_by_sign_up_month_df.iloc[:, -1], axis=0\n",
    ")"
   ]
  },
  {
   "cell_type": "code",
   "execution_count": null,
   "id": "cceed1be",
   "metadata": {},
   "outputs": [],
   "source": [
    "plan_months_composition_by_sign_up_month_df = sign_up_info_exploded_df.pivot_table(\n",
    "    index=[\"signup_month\"],\n",
    "    columns=[\"plan_months\"],\n",
    "    values=\"id\",\n",
    "    aggfunc=\"count\",\n",
    "    margins=True,\n",
    ")\n",
    "\n",
    "plan_months_composition_by_sign_up_month_df.div(\n",
    "    plan_months_composition_by_sign_up_month_df.iloc[:, -1], axis=0\n",
    ")"
   ]
  },
  {
   "cell_type": "markdown",
   "id": "c491e6af",
   "metadata": {},
   "source": [
    "There's a similar trend accross plans except for the first two months -- this could possible be because early customers might prefer the cheaper plan."
   ]
  },
  {
   "cell_type": "markdown",
   "id": "f927860e",
   "metadata": {},
   "source": [
    "Whatever differences in conversion could be a result of the price. Let's have a look at this distribution."
   ]
  },
  {
   "cell_type": "code",
   "execution_count": null,
   "id": "d5763a00",
   "metadata": {},
   "outputs": [],
   "source": [
    "p = sns.FacetGrid(\n",
    "    data=sign_up_info_df[sign_up_info_df[\"payment_time\"].notnull()],\n",
    "    col=\"signup_month\",\n",
    "    col_wrap=3,\n",
    "    height=4,\n",
    "    sharex=\"col\",\n",
    "    sharey=\"row\",\n",
    ")\n",
    "p.map(\n",
    "    sns.histplot,\n",
    "    \"payment_amount\",\n",
    "    kde=True,\n",
    "    color=\"green\",\n",
    "    stat=\"density\",\n",
    ")\n",
    "p.fig.subplots_adjust(top=0.9)\n",
    "p.fig.suptitle(\"Histogram of the distribution of payment amount by months\")\n",
    "plt.show()"
   ]
  },
  {
   "cell_type": "markdown",
   "id": "a6f5a7aa",
   "metadata": {},
   "source": []
  },
  {
   "cell_type": "markdown",
   "id": "d44d062f",
   "metadata": {},
   "source": [
    "## Who are those people dropping off?\n",
    "\n",
    "Are those who're dropping off and not paying of a certain category?"
   ]
  },
  {
   "cell_type": "code",
   "execution_count": null,
   "id": "0ab3bcef",
   "metadata": {},
   "outputs": [],
   "source": [
    "sign_up_info_df.loc[\n",
    "    sign_up_info_df[\"signup_to_payment_time\"].notnull(), \"signup_to_payment_time\"\n",
    "].max()"
   ]
  },
  {
   "cell_type": "markdown",
   "id": "96f93d2b",
   "metadata": {},
   "source": [
    "Assuming that anyone who has taken over 120 days to sign up has abandoned their cart completely and there's little scope to come back. Now, why did they drop off?"
   ]
  },
  {
   "cell_type": "code",
   "execution_count": null,
   "id": "15562643",
   "metadata": {},
   "outputs": [],
   "source": [
    "lost_sign_up_info_exploded_df = sign_up_info_exploded_df.loc[\n",
    "    (\n",
    "        sign_up_info_exploded_df[\"signup_time\"] + dt.timedelta(days=120)\n",
    "        < DATETIME_NOW_IST\n",
    "    )\n",
    "    & (sign_up_info_exploded_df[\"payment_time\"].isna()),\n",
    "]"
   ]
  },
  {
   "cell_type": "code",
   "execution_count": null,
   "id": "f5825cbd",
   "metadata": {},
   "outputs": [],
   "source": [
    "completed_sign_up_info_exploded_df = sign_up_info_exploded_df.loc[\n",
    "    (sign_up_info_exploded_df[\"payment_time\"].notnull()),\n",
    "]"
   ]
  },
  {
   "cell_type": "code",
   "execution_count": null,
   "id": "9fe629ec",
   "metadata": {},
   "outputs": [],
   "source": [
    "fig, ax = plt.subplots(figsize=(16, 6), dpi=120, nrows=2)\n",
    "\n",
    "sns.countplot(\n",
    "    x=\"ages\",\n",
    "    data=lost_sign_up_info_exploded_df,\n",
    "    order=np.arange(\n",
    "        start=0,\n",
    "        stop=63,\n",
    "        step=1,\n",
    "    ),\n",
    "    ax=ax[0],\n",
    ")\n",
    "sns.countplot(\n",
    "    x=\"ages\",\n",
    "    data=completed_sign_up_info_exploded_df,\n",
    "    order=np.arange(\n",
    "        start=0,\n",
    "        stop=63,\n",
    "        step=1,\n",
    "    ),\n",
    "    ax=ax[1],\n",
    ")\n",
    "ax[0].set_title(\n",
    "    \"Count Plot of ages in lost signups (top) vs completed signups (bottom)\"\n",
    ")\n",
    "ax[0].set_xlabel(None)\n",
    "plt.show()"
   ]
  },
  {
   "cell_type": "code",
   "execution_count": null,
   "id": "714a9468",
   "metadata": {},
   "outputs": [],
   "source": [
    "lost_sign_up_info_exploded_df.groupby([\"plan_months\"])[\n",
    "    \"id\"\n",
    "].count() / lost_sign_up_info_exploded_df.shape[0]"
   ]
  },
  {
   "cell_type": "code",
   "execution_count": null,
   "id": "547cc4e3",
   "metadata": {},
   "outputs": [],
   "source": [
    "completed_sign_up_info_exploded_df.groupby([\"plan_months\"])[\n",
    "    \"id\"\n",
    "].count() / completed_sign_up_info_exploded_df.shape[0]"
   ]
  },
  {
   "cell_type": "code",
   "execution_count": null,
   "id": "a56e8c2f",
   "metadata": {},
   "outputs": [],
   "source": [
    "lost_sign_up_info_exploded_df.groupby([\"genders\"])[\n",
    "    \"id\"\n",
    "].count() / lost_sign_up_info_exploded_df.shape[0]"
   ]
  },
  {
   "cell_type": "code",
   "execution_count": null,
   "id": "839dba35",
   "metadata": {},
   "outputs": [],
   "source": [
    "completed_sign_up_info_exploded_df.groupby([\"genders\"])[\n",
    "    \"id\"\n",
    "].count() / completed_sign_up_info_exploded_df.shape[0]"
   ]
  },
  {
   "cell_type": "code",
   "execution_count": null,
   "id": "cff2f6bf",
   "metadata": {},
   "outputs": [],
   "source": [
    "lost_sign_up_info_exploded_df.groupby([\"plans\"])[\n",
    "    \"id\"\n",
    "].count() / lost_sign_up_info_exploded_df.shape[0]"
   ]
  },
  {
   "cell_type": "code",
   "execution_count": null,
   "id": "52c3d167",
   "metadata": {
    "scrolled": true
   },
   "outputs": [],
   "source": [
    "completed_sign_up_info_exploded_df.groupby([\"plans\"])[\n",
    "    \"id\"\n",
    "].count() / completed_sign_up_info_exploded_df.shape[0]"
   ]
  },
  {
   "cell_type": "markdown",
   "id": "797a7df3",
   "metadata": {},
   "source": [
    "There doesn't seem to be a trend among those dropping off."
   ]
  },
  {
   "cell_type": "markdown",
   "id": "c81a291a",
   "metadata": {},
   "source": [
    "## Can we start a abandoned campaign?\n",
    "\n",
    "What's the average time to sign up? When can we intervene?"
   ]
  },
  {
   "cell_type": "markdown",
   "id": "e59b31d8",
   "metadata": {},
   "source": [
    "### Corollary\n",
    "\n",
    "Some additional metrics that we could benefit from during sign ups are:\n",
    "\n",
    "1. What is the scope for a re-activation campaign?\n",
    "    - What's our current customer retention? This would help improve customer lifetime value?\n",
    "    - What's causing them to drop off? What are their expectations from the app? What's their feedback?\n",
    "2. Where are customers coming from?\n",
    "    - What's the acquistion source and the conversion of that source? E.g. are they more likely to convert via social media influencer coupons?\n",
    "    - What do the demographic of those signing up quickly? Is it just older people?\n",
    "3. Why are customers droppping off?\n",
    "    - Are people unhappy with the pricing? What does the competitor price and value proposition look like?\n",
    "    - Are older folks (those above 63) looking for insurance? What's the scope of offering insurance there?\n",
    "    - Tech issues:\n",
    "        - Is a payment method broken? – track through conversion by payment method\n",
    "        - Is the app difficult to use on a certain platform or device type?\n",
    "        - Are we losing event data on a particular device?"
   ]
  },
  {
   "cell_type": "markdown",
   "id": "7686fee4",
   "metadata": {},
   "source": [
    "## User Sign Up to Payment Time\n",
    "\n",
    "Consider the fields `signup_time` and `payment_time`. They stand for the time a given user (who then may add multiple family members) signed up and then paid, respectively. In a single plot, how can you best show the distribution of time \"deltas\" between the sign up time and payment time (i.e. how long it takes for people to pay once they have signed up)? What is the best way to condense the relevant information and insights? Remember it needs to be a single, static plot, which ideally should not need to be magnified to make sense."
   ]
  },
  {
   "cell_type": "code",
   "execution_count": null,
   "id": "13064bcd",
   "metadata": {},
   "outputs": [],
   "source": []
  },
  {
   "cell_type": "markdown",
   "id": "f958d783",
   "metadata": {},
   "source": [
    "## Mining the Underlying Price\n",
    "\n",
    "You are given the payment amounts but you don't know what the underlying price function is, and what its inputs are (though you can assume they are a subset of the given fields). If you had to treat this as a prediction problem, what kind of model would you use? **PLEASE DO NOT ACTUALLY ATTEMPT MODELLING**. Base your answer on any data exploration you did (and feel free to show plots/stats), but what we are looking is simply a discussion of what may be some of the modelling challenges here and how to pick a model which can overcome them.\n",
    "\n",
    "Surviorship bias -- modelling the price the customer is willing to pay.\n",
    "\n",
    "Linear regression."
   ]
  },
  {
   "cell_type": "code",
   "execution_count": null,
   "id": "7d727602",
   "metadata": {},
   "outputs": [],
   "source": []
  }
 ],
 "metadata": {
  "kernelspec": {
   "display_name": "Python 3 (ipykernel)",
   "language": "python",
   "name": "python3"
  },
  "language_info": {
   "codemirror_mode": {
    "name": "ipython",
    "version": 3
   },
   "file_extension": ".py",
   "mimetype": "text/x-python",
   "name": "python",
   "nbconvert_exporter": "python",
   "pygments_lexer": "ipython3",
   "version": "3.9.16"
  }
 },
 "nbformat": 4,
 "nbformat_minor": 5
}
