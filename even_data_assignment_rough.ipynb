{
 "cells": [
  {
   "cell_type": "markdown",
   "id": "7d669c31",
   "metadata": {},
   "source": [
    "# Even: Data Assignment"
   ]
  },
  {
   "cell_type": "markdown",
   "id": "ba329590",
   "metadata": {},
   "source": [
    "## Config\n",
    "\n",
    "Setting up the environment for the analysis.\n",
    "\n",
    "\n",
    "* This notebook uses `Python3.9` via `miniconda`. The environment can be created with `conda create -n even python=3.9`"
   ]
  },
  {
   "cell_type": "code",
   "execution_count": null,
   "id": "d79636c0",
   "metadata": {},
   "outputs": [],
   "source": [
    "# black formatter\n",
    "%load_ext nb_black"
   ]
  },
  {
   "cell_type": "code",
   "execution_count": null,
   "id": "925487e1",
   "metadata": {},
   "outputs": [],
   "source": [
    "import pytz\n",
    "\n",
    "import pandas as pd\n",
    "import numpy as np\n",
    "import seaborn as sns\n",
    "import matplotlib.pyplot as plt"
   ]
  },
  {
   "cell_type": "code",
   "execution_count": null,
   "id": "4b0df97c",
   "metadata": {},
   "outputs": [],
   "source": [
    "IST_TZ = pytz.timezone(\"Asia/Kolkata\")"
   ]
  },
  {
   "cell_type": "markdown",
   "id": "04d69f33",
   "metadata": {},
   "source": [
    "## Data Preparation & Exploration"
   ]
  },
  {
   "cell_type": "code",
   "execution_count": null,
   "id": "f451dcf4",
   "metadata": {},
   "outputs": [],
   "source": [
    "sign_up_info_df = pd.read_csv(\"data/data_science_task_dataset.csv\", index_col=[0])\n",
    "sign_up_info_df.reset_index(drop=True, inplace=True)\n",
    "sign_up_info_df.reset_index(names=[\"id\"], inplace=True)"
   ]
  },
  {
   "cell_type": "code",
   "execution_count": null,
   "id": "ca6d60fa",
   "metadata": {},
   "outputs": [],
   "source": [
    "# assuming times are in IST\n",
    "sign_up_info_df[\"signup_time\"] = pd.to_datetime(\n",
    "    sign_up_info_df[\"signup_time\"]\n",
    ").dt.tz_localize(IST_TZ)\n",
    "sign_up_info_df[\"payment_time\"] = pd.to_datetime(\n",
    "    sign_up_info_df[\"payment_time\"]\n",
    ").dt.tz_localize(IST_TZ)\n",
    "\n",
    "sign_up_info_df[\"plan_months\"] = sign_up_info_df[\"plan_months\"].astype(int)\n",
    "sign_up_info_df[\"payment_amount\"] = sign_up_info_df[\"payment_amount\"].astype(float)\n",
    "sign_up_info_df[\"is_early_bird\"] = sign_up_info_df[\"is_early_bird\"].astype(bool)"
   ]
  },
  {
   "cell_type": "markdown",
   "id": "98956d82",
   "metadata": {},
   "source": [
    "Where ever paytime is missing, payment amount should be `NA`, i.e, it's still pending."
   ]
  },
  {
   "cell_type": "code",
   "execution_count": null,
   "id": "dfbe6236",
   "metadata": {},
   "outputs": [],
   "source": [
    "sign_up_info_df.loc[sign_up_info_df[\"payment_time\"].isna(), \"payment_amount\"] = np.nan"
   ]
  },
  {
   "cell_type": "markdown",
   "id": "626b853f",
   "metadata": {},
   "source": [
    "* Each row represents a sign up with multiple family members:\n",
    "    - represented by multiple values for `genders`, `ages`, `plans`.\n",
    "    - other rows are common among family members.\n",
    "    - the person who originally signed up is the first member.\n",
    "* When `payment_time` is null, the customer hasn't paid for the plan yet."
   ]
  },
  {
   "cell_type": "markdown",
   "id": "57f9c9bf",
   "metadata": {},
   "source": [
    "The permissible categories are as follows:"
   ]
  },
  {
   "cell_type": "code",
   "execution_count": null,
   "id": "d8f58f8f",
   "metadata": {},
   "outputs": [],
   "source": [
    "# splitting each family member to a unique column\n",
    "sign_up_info_exploded_df = sign_up_info_df.assign(\n",
    "    **{\n",
    "        \"plans\": sign_up_info_df[\"plans\"].str.split(\", \"),\n",
    "        \"genders\": sign_up_info_df[\"genders\"].str.split(\", \"),\n",
    "        \"ages\": sign_up_info_df[\"ages\"].str.split(\", \"),\n",
    "    }\n",
    ").explode(column=[\"ages\", \"genders\", \"plans\"])"
   ]
  },
  {
   "cell_type": "code",
   "execution_count": null,
   "id": "36da87ca",
   "metadata": {},
   "outputs": [],
   "source": [
    "sign_up_info_exploded_df.groupby([\"plans\", \"plan_months\"])[\"id\"].count()"
   ]
  },
  {
   "cell_type": "code",
   "execution_count": null,
   "id": "ceade8d7",
   "metadata": {},
   "outputs": [],
   "source": [
    "sign_up_info_exploded_df[\"genders\"].value_counts(dropna=False)"
   ]
  },
  {
   "cell_type": "code",
   "execution_count": null,
   "id": "d547fb16",
   "metadata": {},
   "outputs": [],
   "source": [
    "sign_up_info_exploded_df[\"ages\"] = sign_up_info_exploded_df[\"ages\"].astype(int)\n",
    "\n",
    "fig, ax = plt.subplots(figsize=(16, 6), dpi=120)\n",
    "sns.countplot(\n",
    "    x=\"ages\",\n",
    "    data=sign_up_info_exploded_df,\n",
    "    order=np.arange(\n",
    "        start=sign_up_info_exploded_df[\"ages\"].min(),\n",
    "        stop=sign_up_info_exploded_df[\"ages\"].max(),\n",
    "        step=1,\n",
    "    ),\n",
    "    ax=ax,\n",
    ")\n",
    "ax.set_title(\"Count Plot of ages\")\n",
    "ax.set_xlabel(\"Age (in years)\")\n",
    "ax.set_ylabel(\"Count of people\")\n",
    "plt.show()"
   ]
  },
  {
   "cell_type": "code",
   "execution_count": null,
   "id": "8616856f",
   "metadata": {},
   "outputs": [],
   "source": [
    "sign_up_info_exploded_df[\"age_bins\"] = pd.cut(\n",
    "    sign_up_info_exploded_df[\"ages\"],\n",
    "    bins=[0, 17, 35, 50, 65],\n",
    "    include_lowest=True,\n",
    "    precision=0,\n",
    ")\n",
    "sign_up_info_exploded_df[\"age_bins\"].value_counts(normalize=True, dropna=False) * 100"
   ]
  },
  {
   "cell_type": "markdown",
   "id": "1453004f",
   "metadata": {},
   "source": [
    "1. The age limit for insurance of 65 years is line with the [IRDAI](https://www.tataaig.com/knowledge-center/health-insurance/age-limit-for-health-insurance).\n",
    "2. A major part of the population purchasing premiums at even are between 17-35."
   ]
  },
  {
   "cell_type": "markdown",
   "id": "c5cfe15d",
   "metadata": {},
   "source": [
    "The minimum sign up time to the maximum paytime signifies the range this data is for."
   ]
  },
  {
   "cell_type": "code",
   "execution_count": null,
   "id": "e558b8f2",
   "metadata": {},
   "outputs": [],
   "source": [
    "print(\n",
    "    f\"\"\"From: {sign_up_info_df[\"signup_time\"].min()}\"\"\"\n",
    "    + f\"\"\"\\nTo: {sign_up_info_df[\"payment_time\"].max()}\"\"\"\n",
    "    + f\"\"\"\\nRange: {sign_up_info_df[\"payment_time\"].max() - sign_up_info_df[\"signup_time\"].min()}\"\"\"\n",
    ")"
   ]
  },
  {
   "cell_type": "markdown",
   "id": "91238d4d",
   "metadata": {},
   "source": [
    "i.e., roughly a year of data."
   ]
  },
  {
   "cell_type": "code",
   "execution_count": null,
   "id": "5005395c",
   "metadata": {},
   "outputs": [],
   "source": [
    "sign_up_info_df.sample(5)"
   ]
  },
  {
   "cell_type": "markdown",
   "id": "ebcbc292",
   "metadata": {},
   "source": [
    "## Crucial Points\n",
    "\n",
    "what do you think are 2 crucial data breakdowns or plots to be shown if you were presenting this data to the wider team? If you think multiple options are possible, feel free to say why you picked those 2.\n",
    "\n",
    "Possible Questions\n",
    "\n",
    "- [ ] Are certain plans more popular among certain ages? Families?\n",
    "- [ ] Are certain plan moonths popular among certain age? Families?\n",
    "- [ ] What's the age group that's signing up the most for even?\n",
    "- [ ] Which group signs up the fastest at even?\n",
    "- [ ] When is Even receiving the most sign ups?\n",
    "- [ ] Are early bird sign ups more?\n",
    "- [ ] What's the typical price people are looking for insurane at sign up? (compare it with market rates)"
   ]
  },
  {
   "cell_type": "code",
   "execution_count": null,
   "id": "b2570d80",
   "metadata": {},
   "outputs": [],
   "source": []
  },
  {
   "cell_type": "markdown",
   "id": "7686fee4",
   "metadata": {},
   "source": [
    "## User Sign Up to Payment Time\n",
    "\n",
    "Consider the fields `signup_time` and `payment_time`. They stand for the time a given user (who then may add multiple family members) signed up and then paid, respectively. In a single plot, how can you best show the distribution of time \"deltas\" between the sign up time and payment time (i.e. how long it takes for people to pay once they have signed up)? What is the best way to condense the relevant information and insights? Remember it needs to be a single, static plot, which ideally should not need to be magnified to make sense."
   ]
  },
  {
   "cell_type": "code",
   "execution_count": null,
   "id": "13064bcd",
   "metadata": {},
   "outputs": [],
   "source": []
  },
  {
   "cell_type": "markdown",
   "id": "f958d783",
   "metadata": {},
   "source": [
    "## Mining the Underlying Price\n",
    "\n",
    "You are given the payment amounts but you don't know what the underlying price function is, and what its inputs are (though you can assume they are a subset of the given fields). If you had to treat this as a prediction problem, what kind of model would you use? **PLEASE DO NOT ACTUALLY ATTEMPT MODELLING**. Base your answer on any data exploration you did (and feel free to show plots/stats), but what we are looking is simply a discussion of what may be some of the modelling challenges here and how to pick a model which can overcome them."
   ]
  },
  {
   "cell_type": "code",
   "execution_count": null,
   "id": "7d727602",
   "metadata": {},
   "outputs": [],
   "source": []
  }
 ],
 "metadata": {
  "kernelspec": {
   "display_name": "Python 3 (ipykernel)",
   "language": "python",
   "name": "python3"
  },
  "language_info": {
   "codemirror_mode": {
    "name": "ipython",
    "version": 3
   },
   "file_extension": ".py",
   "mimetype": "text/x-python",
   "name": "python",
   "nbconvert_exporter": "python",
   "pygments_lexer": "ipython3",
   "version": "3.9.16"
  }
 },
 "nbformat": 4,
 "nbformat_minor": 5
}
